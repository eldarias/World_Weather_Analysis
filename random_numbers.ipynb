{
 "cells": [
  {
   "cell_type": "code",
   "execution_count": 1,
   "id": "e2758a1a",
   "metadata": {},
   "outputs": [],
   "source": [
    "# Import the random module.\n",
    "import random"
   ]
  },
  {
   "cell_type": "code",
   "execution_count": 7,
   "id": "30c0c113",
   "metadata": {},
   "outputs": [
    {
     "data": {
      "text/plain": [
       "-69"
      ]
     },
     "execution_count": 7,
     "metadata": {},
     "output_type": "execute_result"
    }
   ],
   "source": [
    "#randint() Function - randint is short for \"random integer.\"  We get a single integer between –90 and 90\n",
    "random.randint(-90,90)"
   ]
  },
  {
   "cell_type": "code",
   "execution_count": 9,
   "id": "8fd775f0",
   "metadata": {},
   "outputs": [
    {
     "data": {
      "text/plain": [
       "0.48790097390989673"
      ]
     },
     "execution_count": 9,
     "metadata": {},
     "output_type": "execute_result"
    }
   ],
   "source": [
    "#random() Function - we can get a single floating-point decimal number between 0 and 1.0\n",
    "random.random()"
   ]
  },
  {
   "cell_type": "code",
   "execution_count": 11,
   "id": "fb87b85c",
   "metadata": {},
   "outputs": [
    {
     "data": {
      "text/plain": [
       "-53.354873645323615"
      ]
     },
     "execution_count": 11,
     "metadata": {},
     "output_type": "execute_result"
    }
   ],
   "source": [
    "# Combining the methods\n",
    "random_number = random.randint(-90, 89) + random.random()\n",
    "random_number"
   ]
  },
  {
   "cell_type": "code",
   "execution_count": 17,
   "id": "3484d75a",
   "metadata": {},
   "outputs": [
    {
     "data": {
      "text/plain": [
       "[-1.817943996112178,\n",
       " 14.917190649211156,\n",
       " -9.62579655002526,\n",
       " -17.36175048161194,\n",
       " 17.0985299464422,\n",
       " 60.75710143074582,\n",
       " 75.49345296691672,\n",
       " -82.28342956736374,\n",
       " -27.38642107412815,\n",
       " 69.43049525680182]"
      ]
     },
     "execution_count": 17,
     "metadata": {},
     "output_type": "execute_result"
    }
   ],
   "source": [
    "# Here is a small sample of what it might take to generate ten random floating-point decimal latitudes between –90 and 89.\n",
    "x = 1\n",
    "latitudes = []\n",
    "while x < 11:\n",
    "    random_lat = random.randint(-90, 89) + random.random()\n",
    "    latitudes.append(random_lat)\n",
    "    x += 1\n",
    "latitudes"
   ]
  },
  {
   "cell_type": "code",
   "execution_count": 19,
   "id": "9c8d9d16",
   "metadata": {},
   "outputs": [
    {
     "data": {
      "text/plain": [
       "-87"
      ]
     },
     "execution_count": 19,
     "metadata": {},
     "output_type": "execute_result"
    }
   ],
   "source": [
    "# randrange() Function - he randrange() function behaves differently than the previous two functions.\n",
    "#Inside the parentheses, we need to add two numbers, a lower and upper limit, separated by a comma.\n",
    "#step parameter will generate increments of a given value, step=1 or increment of 1 is the default\n",
    "random.randrange(-90, 90, step=1)"
   ]
  },
  {
   "cell_type": "code",
   "execution_count": 29,
   "id": "e67dcc09",
   "metadata": {},
   "outputs": [
    {
     "data": {
      "text/plain": [
       "30"
      ]
     },
     "execution_count": 29,
     "metadata": {},
     "output_type": "execute_result"
    }
   ],
   "source": [
    "# randrange() function with step=3\n",
    "random.randrange(-90, 90, step=3)"
   ]
  },
  {
   "cell_type": "code",
   "execution_count": 32,
   "id": "3b1975e9",
   "metadata": {},
   "outputs": [
    {
     "data": {
      "text/plain": [
       "85.4278719359863"
      ]
     },
     "execution_count": 32,
     "metadata": {},
     "output_type": "execute_result"
    }
   ],
   "source": [
    "# uniform() Function\n",
    "# it will return a floating-point decimal number!\n",
    "random.uniform(-90, 90)"
   ]
  },
  {
   "cell_type": "code",
   "execution_count": 33,
   "id": "a49e3c44",
   "metadata": {},
   "outputs": [],
   "source": [
    "# Import the NumPy module.\n",
    "import numpy as np"
   ]
  },
  {
   "cell_type": "code",
   "execution_count": 34,
   "id": "90d04b28",
   "metadata": {},
   "outputs": [
    {
     "data": {
      "text/plain": [
       "-75.92790857243023"
      ]
     },
     "execution_count": 34,
     "metadata": {},
     "output_type": "execute_result"
    }
   ],
   "source": [
    "np.random.uniform(-90.000, 90.000)"
   ]
  },
  {
   "cell_type": "code",
   "execution_count": 39,
   "id": "a9fa7b4e",
   "metadata": {},
   "outputs": [
    {
     "data": {
      "text/plain": [
       "82.43438386446658"
      ]
     },
     "execution_count": 39,
     "metadata": {},
     "output_type": "execute_result"
    }
   ],
   "source": [
    "np.random.uniform(low=-90, high=90)"
   ]
  },
  {
   "cell_type": "code",
   "execution_count": 43,
   "id": "73190176",
   "metadata": {},
   "outputs": [
    {
     "data": {
      "text/plain": [
       "array([ 58.48992538,  16.68906506,  87.38126493, -71.89979255,\n",
       "        76.8120628 , -39.75285274, -30.74781723, -41.00202727,\n",
       "        21.63190103, -79.61330922, -15.99654588,   0.71160996,\n",
       "         4.36470877, -29.8459223 ,   7.0239295 , -66.47944338,\n",
       "        52.87341537, -21.71822432,  52.82963585,  49.06062233,\n",
       "       -44.06797072, -84.3580626 ,  50.15900742, -21.61199505,\n",
       "        39.17463374, -75.71391061, -51.11507762, -76.08700258,\n",
       "        56.1513213 , -52.33768009,  59.02276604, -87.82528092,\n",
       "        17.90390168,  84.47093369, -57.7401757 , -83.69460556,\n",
       "       -74.76754694,  15.20603768,  39.83900065, -68.41233093,\n",
       "       -75.09457084, -17.95305404,   5.05428249, -19.55393409,\n",
       "        58.23201785, -14.82358329, -56.95276807,   3.59974517,\n",
       "        34.90762052,  75.1467019 ])"
      ]
     },
     "execution_count": 43,
     "metadata": {},
     "output_type": "execute_result"
    }
   ],
   "source": [
    "np.random.uniform(-90.000, 90.000, size=50)"
   ]
  },
  {
   "cell_type": "code",
   "execution_count": 44,
   "id": "8a3e32fc",
   "metadata": {},
   "outputs": [],
   "source": [
    "# Import timeit to see how long a piece of code or function takes to run:\n",
    "import timeit"
   ]
  },
  {
   "cell_type": "code",
   "execution_count": 46,
   "id": "ed5aaca6",
   "metadata": {},
   "outputs": [
    {
     "name": "stdout",
     "output_type": "stream",
     "text": [
      "13.2 µs ± 119 ns per loop (mean ± std. dev. of 7 runs, 100000 loops each)\n"
     ]
    }
   ],
   "source": [
    "%timeit np.random.uniform(-90.000, 90.000, size=1500)"
   ]
  },
  {
   "cell_type": "code",
   "execution_count": 47,
   "id": "4f1a0b0f",
   "metadata": {},
   "outputs": [
    {
     "name": "stdout",
     "output_type": "stream",
     "text": [
      "1.95 ms ± 212 µs per loop (mean ± std. dev. of 7 runs, 1000 loops each)\n"
     ]
    }
   ],
   "source": [
    "# Function to run a while loop:\n",
    "def latitudes(size):\n",
    "    latitudes = []\n",
    "    x = 0\n",
    "    while x < (size):\n",
    "        random_lat = random.randint(-90, 90) + random.random()\n",
    "        latitudes.append(random_lat)\n",
    "        x += 1\n",
    "    return latitudes\n",
    "# Call the function with 1500.\n",
    "%timeit latitudes(1500)"
   ]
  },
  {
   "cell_type": "code",
   "execution_count": 49,
   "id": "c97720d3",
   "metadata": {},
   "outputs": [
    {
     "name": "stdout",
     "output_type": "stream",
     "text": [
      "1.87 ms ± 161 µs per loop (mean ± std. dev. of 7 runs, 1000 loops each)\n"
     ]
    }
   ],
   "source": [
    "# SKILL DRILL - 6.1.4\n",
    "# Function to run a while loop:\n",
    "def longitudes(size):\n",
    "    longitudes = []\n",
    "    x = 0\n",
    "    while x < (size):\n",
    "        random_lat = random.randint(-180, 180) + random.random()\n",
    "        longitudes.append(random_lat)\n",
    "        x += 1\n",
    "    return longitudes\n",
    "# Call the function with 1500.\n",
    "%timeit latitudes(1500)"
   ]
  },
  {
   "cell_type": "code",
   "execution_count": null,
   "id": "f86c847b",
   "metadata": {},
   "outputs": [],
   "source": []
  }
 ],
 "metadata": {
  "kernelspec": {
   "display_name": "PythonData",
   "language": "python",
   "name": "pythondata"
  },
  "language_info": {
   "codemirror_mode": {
    "name": "ipython",
    "version": 3
   },
   "file_extension": ".py",
   "mimetype": "text/x-python",
   "name": "python",
   "nbconvert_exporter": "python",
   "pygments_lexer": "ipython3",
   "version": "3.7.11"
  }
 },
 "nbformat": 4,
 "nbformat_minor": 5
}
